{
  "nbformat": 4,
  "nbformat_minor": 0,
  "metadata": {
    "colab": {
      "provenance": []
    },
    "kernelspec": {
      "name": "python3",
      "display_name": "Python 3"
    },
    "language_info": {
      "name": "python"
    }
  },
  "cells": [
    {
      "cell_type": "code",
      "source": [
        "from google.colab import drive\n",
        "drive.mount('/content/drive')"
      ],
      "metadata": {
        "colab": {
          "base_uri": "https://localhost:8080/"
        },
        "id": "EeTvEv7dEb35",
        "outputId": "0403eadd-4c39-4e62-a7a6-ce76dd9c1812"
      },
      "execution_count": 2,
      "outputs": [
        {
          "output_type": "stream",
          "name": "stdout",
          "text": [
            "Mounted at /content/drive\n"
          ]
        }
      ]
    },
    {
      "cell_type": "code",
      "source": [
        "path_datasets = \"/content/performance.csv\""
      ],
      "metadata": {
        "id": "DqGGFEN2EsUK"
      },
      "execution_count": 3,
      "outputs": []
    },
    {
      "cell_type": "code",
      "execution_count": 4,
      "metadata": {
        "id": "VNPGJs0pAQwu"
      },
      "outputs": [],
      "source": [
        "import pandas as pd\n",
        "import matplotlib.pyplot as plt"
      ]
    },
    {
      "cell_type": "code",
      "source": [
        "df = pd.read_csv('performance.csv')\n",
        "df "
      ],
      "metadata": {
        "colab": {
          "base_uri": "https://localhost:8080/",
          "height": 835
        },
        "id": "_E1H6vv5E1WI",
        "outputId": "60b6e51b-a2d7-423b-a98e-1d2059f89117"
      },
      "execution_count": 7,
      "outputs": [
        {
          "output_type": "execute_result",
          "data": {
            "text/plain": [
              "    school sex  age address famsize Pstatus                           Medu  \\\n",
              "0       GP   F   18       U     GT3       A               higher education   \n",
              "1       GP   F   17       U     GT3       T  primary education (4th grade)   \n",
              "2       GP   F   15       U     LE3       T  primary education (4th grade)   \n",
              "3       GP   F   15       U     GT3       T               higher education   \n",
              "4       GP   F   16       U     GT3       T            secondary education   \n",
              "..     ...  ..  ...     ...     ...     ...                            ...   \n",
              "390     MS   M   20       U     LE3       A               5th to 9th grade   \n",
              "391     MS   M   17       U     LE3       T            secondary education   \n",
              "392     MS   M   21       R     GT3       T  primary education (4th grade)   \n",
              "393     MS   M   18       R     LE3       T            secondary education   \n",
              "394     MS   M   19       U     LE3       T  primary education (4th grade)   \n",
              "\n",
              "                              Fedu      Mjob      Fjob  ...     famrel  \\\n",
              "0                 higher education   at_home   teacher  ...  very good   \n",
              "1    primary education (4th grade)   at_home     other  ...  excellent   \n",
              "2    primary education (4th grade)   at_home     other  ...  very good   \n",
              "3                 5th to 9th grade    health  services  ...       good   \n",
              "4              secondary education     other     other  ...  very good   \n",
              "..                             ...       ...       ...  ...        ...   \n",
              "390               5th to 9th grade  services  services  ...  excellent   \n",
              "391  primary education (4th grade)  services  services  ...        bad   \n",
              "392  primary education (4th grade)     other     other  ...  excellent   \n",
              "393               5th to 9th grade  services     other  ...  very good   \n",
              "394  primary education (4th grade)     other   at_home  ...       good   \n",
              "\n",
              "      freetime      goout      Dalc       Walc     health absences  G1  G2  G3  \n",
              "0       medium       high  very low   very low       good        6   5   6   6  \n",
              "1       medium     medium  very low   very low       good        4   5   5   6  \n",
              "2       medium        low       low     medium       good       10   7   8  10  \n",
              "3          low        low  very low   very low  excellent        2  15  14  15  \n",
              "4       medium        low  very low        low  excellent        4   6  10  10  \n",
              "..         ...        ...       ...        ...        ...      ...  ..  ..  ..  \n",
              "390  very high       high      high  very high  very good       11   9   9   9  \n",
              "391       high  very high    medium       high        bad        3  14  16  16  \n",
              "392  very high     medium    medium     medium       good        3  10   8   7  \n",
              "393       high   very low    medium       high  excellent        0  11  12  10  \n",
              "394        low     medium    medium     medium  excellent        5   8   9   9  \n",
              "\n",
              "[395 rows x 33 columns]"
            ],
            "text/html": [
              "\n",
              "  <div id=\"df-8d3e0e3f-8c99-4731-a318-1f811536f576\">\n",
              "    <div class=\"colab-df-container\">\n",
              "      <div>\n",
              "<style scoped>\n",
              "    .dataframe tbody tr th:only-of-type {\n",
              "        vertical-align: middle;\n",
              "    }\n",
              "\n",
              "    .dataframe tbody tr th {\n",
              "        vertical-align: top;\n",
              "    }\n",
              "\n",
              "    .dataframe thead th {\n",
              "        text-align: right;\n",
              "    }\n",
              "</style>\n",
              "<table border=\"1\" class=\"dataframe\">\n",
              "  <thead>\n",
              "    <tr style=\"text-align: right;\">\n",
              "      <th></th>\n",
              "      <th>school</th>\n",
              "      <th>sex</th>\n",
              "      <th>age</th>\n",
              "      <th>address</th>\n",
              "      <th>famsize</th>\n",
              "      <th>Pstatus</th>\n",
              "      <th>Medu</th>\n",
              "      <th>Fedu</th>\n",
              "      <th>Mjob</th>\n",
              "      <th>Fjob</th>\n",
              "      <th>...</th>\n",
              "      <th>famrel</th>\n",
              "      <th>freetime</th>\n",
              "      <th>goout</th>\n",
              "      <th>Dalc</th>\n",
              "      <th>Walc</th>\n",
              "      <th>health</th>\n",
              "      <th>absences</th>\n",
              "      <th>G1</th>\n",
              "      <th>G2</th>\n",
              "      <th>G3</th>\n",
              "    </tr>\n",
              "  </thead>\n",
              "  <tbody>\n",
              "    <tr>\n",
              "      <th>0</th>\n",
              "      <td>GP</td>\n",
              "      <td>F</td>\n",
              "      <td>18</td>\n",
              "      <td>U</td>\n",
              "      <td>GT3</td>\n",
              "      <td>A</td>\n",
              "      <td>higher education</td>\n",
              "      <td>higher education</td>\n",
              "      <td>at_home</td>\n",
              "      <td>teacher</td>\n",
              "      <td>...</td>\n",
              "      <td>very good</td>\n",
              "      <td>medium</td>\n",
              "      <td>high</td>\n",
              "      <td>very low</td>\n",
              "      <td>very low</td>\n",
              "      <td>good</td>\n",
              "      <td>6</td>\n",
              "      <td>5</td>\n",
              "      <td>6</td>\n",
              "      <td>6</td>\n",
              "    </tr>\n",
              "    <tr>\n",
              "      <th>1</th>\n",
              "      <td>GP</td>\n",
              "      <td>F</td>\n",
              "      <td>17</td>\n",
              "      <td>U</td>\n",
              "      <td>GT3</td>\n",
              "      <td>T</td>\n",
              "      <td>primary education (4th grade)</td>\n",
              "      <td>primary education (4th grade)</td>\n",
              "      <td>at_home</td>\n",
              "      <td>other</td>\n",
              "      <td>...</td>\n",
              "      <td>excellent</td>\n",
              "      <td>medium</td>\n",
              "      <td>medium</td>\n",
              "      <td>very low</td>\n",
              "      <td>very low</td>\n",
              "      <td>good</td>\n",
              "      <td>4</td>\n",
              "      <td>5</td>\n",
              "      <td>5</td>\n",
              "      <td>6</td>\n",
              "    </tr>\n",
              "    <tr>\n",
              "      <th>2</th>\n",
              "      <td>GP</td>\n",
              "      <td>F</td>\n",
              "      <td>15</td>\n",
              "      <td>U</td>\n",
              "      <td>LE3</td>\n",
              "      <td>T</td>\n",
              "      <td>primary education (4th grade)</td>\n",
              "      <td>primary education (4th grade)</td>\n",
              "      <td>at_home</td>\n",
              "      <td>other</td>\n",
              "      <td>...</td>\n",
              "      <td>very good</td>\n",
              "      <td>medium</td>\n",
              "      <td>low</td>\n",
              "      <td>low</td>\n",
              "      <td>medium</td>\n",
              "      <td>good</td>\n",
              "      <td>10</td>\n",
              "      <td>7</td>\n",
              "      <td>8</td>\n",
              "      <td>10</td>\n",
              "    </tr>\n",
              "    <tr>\n",
              "      <th>3</th>\n",
              "      <td>GP</td>\n",
              "      <td>F</td>\n",
              "      <td>15</td>\n",
              "      <td>U</td>\n",
              "      <td>GT3</td>\n",
              "      <td>T</td>\n",
              "      <td>higher education</td>\n",
              "      <td>5th to 9th grade</td>\n",
              "      <td>health</td>\n",
              "      <td>services</td>\n",
              "      <td>...</td>\n",
              "      <td>good</td>\n",
              "      <td>low</td>\n",
              "      <td>low</td>\n",
              "      <td>very low</td>\n",
              "      <td>very low</td>\n",
              "      <td>excellent</td>\n",
              "      <td>2</td>\n",
              "      <td>15</td>\n",
              "      <td>14</td>\n",
              "      <td>15</td>\n",
              "    </tr>\n",
              "    <tr>\n",
              "      <th>4</th>\n",
              "      <td>GP</td>\n",
              "      <td>F</td>\n",
              "      <td>16</td>\n",
              "      <td>U</td>\n",
              "      <td>GT3</td>\n",
              "      <td>T</td>\n",
              "      <td>secondary education</td>\n",
              "      <td>secondary education</td>\n",
              "      <td>other</td>\n",
              "      <td>other</td>\n",
              "      <td>...</td>\n",
              "      <td>very good</td>\n",
              "      <td>medium</td>\n",
              "      <td>low</td>\n",
              "      <td>very low</td>\n",
              "      <td>low</td>\n",
              "      <td>excellent</td>\n",
              "      <td>4</td>\n",
              "      <td>6</td>\n",
              "      <td>10</td>\n",
              "      <td>10</td>\n",
              "    </tr>\n",
              "    <tr>\n",
              "      <th>...</th>\n",
              "      <td>...</td>\n",
              "      <td>...</td>\n",
              "      <td>...</td>\n",
              "      <td>...</td>\n",
              "      <td>...</td>\n",
              "      <td>...</td>\n",
              "      <td>...</td>\n",
              "      <td>...</td>\n",
              "      <td>...</td>\n",
              "      <td>...</td>\n",
              "      <td>...</td>\n",
              "      <td>...</td>\n",
              "      <td>...</td>\n",
              "      <td>...</td>\n",
              "      <td>...</td>\n",
              "      <td>...</td>\n",
              "      <td>...</td>\n",
              "      <td>...</td>\n",
              "      <td>...</td>\n",
              "      <td>...</td>\n",
              "      <td>...</td>\n",
              "    </tr>\n",
              "    <tr>\n",
              "      <th>390</th>\n",
              "      <td>MS</td>\n",
              "      <td>M</td>\n",
              "      <td>20</td>\n",
              "      <td>U</td>\n",
              "      <td>LE3</td>\n",
              "      <td>A</td>\n",
              "      <td>5th to 9th grade</td>\n",
              "      <td>5th to 9th grade</td>\n",
              "      <td>services</td>\n",
              "      <td>services</td>\n",
              "      <td>...</td>\n",
              "      <td>excellent</td>\n",
              "      <td>very high</td>\n",
              "      <td>high</td>\n",
              "      <td>high</td>\n",
              "      <td>very high</td>\n",
              "      <td>very good</td>\n",
              "      <td>11</td>\n",
              "      <td>9</td>\n",
              "      <td>9</td>\n",
              "      <td>9</td>\n",
              "    </tr>\n",
              "    <tr>\n",
              "      <th>391</th>\n",
              "      <td>MS</td>\n",
              "      <td>M</td>\n",
              "      <td>17</td>\n",
              "      <td>U</td>\n",
              "      <td>LE3</td>\n",
              "      <td>T</td>\n",
              "      <td>secondary education</td>\n",
              "      <td>primary education (4th grade)</td>\n",
              "      <td>services</td>\n",
              "      <td>services</td>\n",
              "      <td>...</td>\n",
              "      <td>bad</td>\n",
              "      <td>high</td>\n",
              "      <td>very high</td>\n",
              "      <td>medium</td>\n",
              "      <td>high</td>\n",
              "      <td>bad</td>\n",
              "      <td>3</td>\n",
              "      <td>14</td>\n",
              "      <td>16</td>\n",
              "      <td>16</td>\n",
              "    </tr>\n",
              "    <tr>\n",
              "      <th>392</th>\n",
              "      <td>MS</td>\n",
              "      <td>M</td>\n",
              "      <td>21</td>\n",
              "      <td>R</td>\n",
              "      <td>GT3</td>\n",
              "      <td>T</td>\n",
              "      <td>primary education (4th grade)</td>\n",
              "      <td>primary education (4th grade)</td>\n",
              "      <td>other</td>\n",
              "      <td>other</td>\n",
              "      <td>...</td>\n",
              "      <td>excellent</td>\n",
              "      <td>very high</td>\n",
              "      <td>medium</td>\n",
              "      <td>medium</td>\n",
              "      <td>medium</td>\n",
              "      <td>good</td>\n",
              "      <td>3</td>\n",
              "      <td>10</td>\n",
              "      <td>8</td>\n",
              "      <td>7</td>\n",
              "    </tr>\n",
              "    <tr>\n",
              "      <th>393</th>\n",
              "      <td>MS</td>\n",
              "      <td>M</td>\n",
              "      <td>18</td>\n",
              "      <td>R</td>\n",
              "      <td>LE3</td>\n",
              "      <td>T</td>\n",
              "      <td>secondary education</td>\n",
              "      <td>5th to 9th grade</td>\n",
              "      <td>services</td>\n",
              "      <td>other</td>\n",
              "      <td>...</td>\n",
              "      <td>very good</td>\n",
              "      <td>high</td>\n",
              "      <td>very low</td>\n",
              "      <td>medium</td>\n",
              "      <td>high</td>\n",
              "      <td>excellent</td>\n",
              "      <td>0</td>\n",
              "      <td>11</td>\n",
              "      <td>12</td>\n",
              "      <td>10</td>\n",
              "    </tr>\n",
              "    <tr>\n",
              "      <th>394</th>\n",
              "      <td>MS</td>\n",
              "      <td>M</td>\n",
              "      <td>19</td>\n",
              "      <td>U</td>\n",
              "      <td>LE3</td>\n",
              "      <td>T</td>\n",
              "      <td>primary education (4th grade)</td>\n",
              "      <td>primary education (4th grade)</td>\n",
              "      <td>other</td>\n",
              "      <td>at_home</td>\n",
              "      <td>...</td>\n",
              "      <td>good</td>\n",
              "      <td>low</td>\n",
              "      <td>medium</td>\n",
              "      <td>medium</td>\n",
              "      <td>medium</td>\n",
              "      <td>excellent</td>\n",
              "      <td>5</td>\n",
              "      <td>8</td>\n",
              "      <td>9</td>\n",
              "      <td>9</td>\n",
              "    </tr>\n",
              "  </tbody>\n",
              "</table>\n",
              "<p>395 rows × 33 columns</p>\n",
              "</div>\n",
              "      <button class=\"colab-df-convert\" onclick=\"convertToInteractive('df-8d3e0e3f-8c99-4731-a318-1f811536f576')\"\n",
              "              title=\"Convert this dataframe to an interactive table.\"\n",
              "              style=\"display:none;\">\n",
              "        \n",
              "  <svg xmlns=\"http://www.w3.org/2000/svg\" height=\"24px\"viewBox=\"0 0 24 24\"\n",
              "       width=\"24px\">\n",
              "    <path d=\"M0 0h24v24H0V0z\" fill=\"none\"/>\n",
              "    <path d=\"M18.56 5.44l.94 2.06.94-2.06 2.06-.94-2.06-.94-.94-2.06-.94 2.06-2.06.94zm-11 1L8.5 8.5l.94-2.06 2.06-.94-2.06-.94L8.5 2.5l-.94 2.06-2.06.94zm10 10l.94 2.06.94-2.06 2.06-.94-2.06-.94-.94-2.06-.94 2.06-2.06.94z\"/><path d=\"M17.41 7.96l-1.37-1.37c-.4-.4-.92-.59-1.43-.59-.52 0-1.04.2-1.43.59L10.3 9.45l-7.72 7.72c-.78.78-.78 2.05 0 2.83L4 21.41c.39.39.9.59 1.41.59.51 0 1.02-.2 1.41-.59l7.78-7.78 2.81-2.81c.8-.78.8-2.07 0-2.86zM5.41 20L4 18.59l7.72-7.72 1.47 1.35L5.41 20z\"/>\n",
              "  </svg>\n",
              "      </button>\n",
              "      \n",
              "  <style>\n",
              "    .colab-df-container {\n",
              "      display:flex;\n",
              "      flex-wrap:wrap;\n",
              "      gap: 12px;\n",
              "    }\n",
              "\n",
              "    .colab-df-convert {\n",
              "      background-color: #E8F0FE;\n",
              "      border: none;\n",
              "      border-radius: 50%;\n",
              "      cursor: pointer;\n",
              "      display: none;\n",
              "      fill: #1967D2;\n",
              "      height: 32px;\n",
              "      padding: 0 0 0 0;\n",
              "      width: 32px;\n",
              "    }\n",
              "\n",
              "    .colab-df-convert:hover {\n",
              "      background-color: #E2EBFA;\n",
              "      box-shadow: 0px 1px 2px rgba(60, 64, 67, 0.3), 0px 1px 3px 1px rgba(60, 64, 67, 0.15);\n",
              "      fill: #174EA6;\n",
              "    }\n",
              "\n",
              "    [theme=dark] .colab-df-convert {\n",
              "      background-color: #3B4455;\n",
              "      fill: #D2E3FC;\n",
              "    }\n",
              "\n",
              "    [theme=dark] .colab-df-convert:hover {\n",
              "      background-color: #434B5C;\n",
              "      box-shadow: 0px 1px 3px 1px rgba(0, 0, 0, 0.15);\n",
              "      filter: drop-shadow(0px 1px 2px rgba(0, 0, 0, 0.3));\n",
              "      fill: #FFFFFF;\n",
              "    }\n",
              "  </style>\n",
              "\n",
              "      <script>\n",
              "        const buttonEl =\n",
              "          document.querySelector('#df-8d3e0e3f-8c99-4731-a318-1f811536f576 button.colab-df-convert');\n",
              "        buttonEl.style.display =\n",
              "          google.colab.kernel.accessAllowed ? 'block' : 'none';\n",
              "\n",
              "        async function convertToInteractive(key) {\n",
              "          const element = document.querySelector('#df-8d3e0e3f-8c99-4731-a318-1f811536f576');\n",
              "          const dataTable =\n",
              "            await google.colab.kernel.invokeFunction('convertToInteractive',\n",
              "                                                     [key], {});\n",
              "          if (!dataTable) return;\n",
              "\n",
              "          const docLinkHtml = 'Like what you see? Visit the ' +\n",
              "            '<a target=\"_blank\" href=https://colab.research.google.com/notebooks/data_table.ipynb>data table notebook</a>'\n",
              "            + ' to learn more about interactive tables.';\n",
              "          element.innerHTML = '';\n",
              "          dataTable['output_type'] = 'display_data';\n",
              "          await google.colab.output.renderOutput(dataTable, element);\n",
              "          const docLink = document.createElement('div');\n",
              "          docLink.innerHTML = docLinkHtml;\n",
              "          element.appendChild(docLink);\n",
              "        }\n",
              "      </script>\n",
              "    </div>\n",
              "  </div>\n",
              "  "
            ]
          },
          "metadata": {},
          "execution_count": 7
        }
      ]
    },
    {
      "cell_type": "markdown",
      "source": [
        "Data was collected in order to save the information on particular student who earned achievement and identify patterns or trends in the data. Data was also created to create a graphical representation of the data such as charts and plots to make people easier to understand and interpret. The data was collected from students at two different schools in California, USA.\n"
      ],
      "metadata": {
        "id": "EpvxeAkRFbAa"
      }
    },
    {
      "cell_type": "code",
      "source": [
        "print(df.isnull().sum())\n",
        "print(df.dtypes)\n",
        "print(df.info())"
      ],
      "metadata": {
        "colab": {
          "base_uri": "https://localhost:8080/"
        },
        "id": "BA2K9uCbKFDn",
        "outputId": "03051e4d-2ba5-458a-d645-9a62a0d5e053"
      },
      "execution_count": 8,
      "outputs": [
        {
          "output_type": "stream",
          "name": "stdout",
          "text": [
            "school        0\n",
            "sex           0\n",
            "age           0\n",
            "address       0\n",
            "famsize       0\n",
            "Pstatus       0\n",
            "Medu          0\n",
            "Fedu          0\n",
            "Mjob          0\n",
            "Fjob          0\n",
            "reason        0\n",
            "guardian      0\n",
            "traveltime    0\n",
            "studytime     0\n",
            "failures      0\n",
            "schoolsup     0\n",
            "famsup        0\n",
            "paid          0\n",
            "activities    0\n",
            "nursery       0\n",
            "higher        0\n",
            "internet      0\n",
            "romantic      0\n",
            "famrel        0\n",
            "freetime      0\n",
            "goout         0\n",
            "Dalc          0\n",
            "Walc          0\n",
            "health        0\n",
            "absences      0\n",
            "G1            0\n",
            "G2            0\n",
            "G3            0\n",
            "dtype: int64\n",
            "school        object\n",
            "sex           object\n",
            "age            int64\n",
            "address       object\n",
            "famsize       object\n",
            "Pstatus       object\n",
            "Medu          object\n",
            "Fedu          object\n",
            "Mjob          object\n",
            "Fjob          object\n",
            "reason        object\n",
            "guardian      object\n",
            "traveltime    object\n",
            "studytime     object\n",
            "failures       int64\n",
            "schoolsup     object\n",
            "famsup        object\n",
            "paid          object\n",
            "activities    object\n",
            "nursery       object\n",
            "higher        object\n",
            "internet      object\n",
            "romantic      object\n",
            "famrel        object\n",
            "freetime      object\n",
            "goout         object\n",
            "Dalc          object\n",
            "Walc          object\n",
            "health        object\n",
            "absences       int64\n",
            "G1             int64\n",
            "G2             int64\n",
            "G3             int64\n",
            "dtype: object\n",
            "<class 'pandas.core.frame.DataFrame'>\n",
            "RangeIndex: 395 entries, 0 to 394\n",
            "Data columns (total 33 columns):\n",
            " #   Column      Non-Null Count  Dtype \n",
            "---  ------      --------------  ----- \n",
            " 0   school      395 non-null    object\n",
            " 1   sex         395 non-null    object\n",
            " 2   age         395 non-null    int64 \n",
            " 3   address     395 non-null    object\n",
            " 4   famsize     395 non-null    object\n",
            " 5   Pstatus     395 non-null    object\n",
            " 6   Medu        395 non-null    object\n",
            " 7   Fedu        395 non-null    object\n",
            " 8   Mjob        395 non-null    object\n",
            " 9   Fjob        395 non-null    object\n",
            " 10  reason      395 non-null    object\n",
            " 11  guardian    395 non-null    object\n",
            " 12  traveltime  395 non-null    object\n",
            " 13  studytime   395 non-null    object\n",
            " 14  failures    395 non-null    int64 \n",
            " 15  schoolsup   395 non-null    object\n",
            " 16  famsup      395 non-null    object\n",
            " 17  paid        395 non-null    object\n",
            " 18  activities  395 non-null    object\n",
            " 19  nursery     395 non-null    object\n",
            " 20  higher      395 non-null    object\n",
            " 21  internet    395 non-null    object\n",
            " 22  romantic    395 non-null    object\n",
            " 23  famrel      395 non-null    object\n",
            " 24  freetime    395 non-null    object\n",
            " 25  goout       395 non-null    object\n",
            " 26  Dalc        395 non-null    object\n",
            " 27  Walc        395 non-null    object\n",
            " 28  health      395 non-null    object\n",
            " 29  absences    395 non-null    int64 \n",
            " 30  G1          395 non-null    int64 \n",
            " 31  G2          395 non-null    int64 \n",
            " 32  G3          395 non-null    int64 \n",
            "dtypes: int64(6), object(27)\n",
            "memory usage: 102.0+ KB\n",
            "None\n"
          ]
        }
      ]
    },
    {
      "cell_type": "code",
      "source": [
        "t = ['school', 'sex', 'address', 'schoolsup', 'famsup', 'activities', 'nursery', 'internet', 'romantic']\n",
        "for variable in t:\n",
        "  df[variable + '_binary'] = df[variable].apply(lambda x: 1 if x == 'yes' else 0)\n",
        "print(df.head())"
      ],
      "metadata": {
        "colab": {
          "base_uri": "https://localhost:8080/"
        },
        "id": "Q7s737HEK-o_",
        "outputId": "26e7c4f2-2267-4565-e2a8-e006ecbedadb"
      },
      "execution_count": 9,
      "outputs": [
        {
          "output_type": "stream",
          "name": "stdout",
          "text": [
            "  school sex  age address famsize Pstatus                           Medu  \\\n",
            "0     GP   F   18       U     GT3       A               higher education   \n",
            "1     GP   F   17       U     GT3       T  primary education (4th grade)   \n",
            "2     GP   F   15       U     LE3       T  primary education (4th grade)   \n",
            "3     GP   F   15       U     GT3       T               higher education   \n",
            "4     GP   F   16       U     GT3       T            secondary education   \n",
            "\n",
            "                            Fedu     Mjob      Fjob  ...  G3 school_binary  \\\n",
            "0               higher education  at_home   teacher  ...   6             0   \n",
            "1  primary education (4th grade)  at_home     other  ...   6             0   \n",
            "2  primary education (4th grade)  at_home     other  ...  10             0   \n",
            "3               5th to 9th grade   health  services  ...  15             0   \n",
            "4            secondary education    other     other  ...  10             0   \n",
            "\n",
            "  sex_binary address_binary  schoolsup_binary famsup_binary activities_binary  \\\n",
            "0          0              0                 1             0                 0   \n",
            "1          0              0                 0             1                 0   \n",
            "2          0              0                 1             0                 0   \n",
            "3          0              0                 0             1                 1   \n",
            "4          0              0                 0             1                 0   \n",
            "\n",
            "  nursery_binary internet_binary romantic_binary  \n",
            "0              1               0               0  \n",
            "1              0               1               0  \n",
            "2              1               1               0  \n",
            "3              1               1               1  \n",
            "4              1               0               0  \n",
            "\n",
            "[5 rows x 42 columns]\n"
          ]
        }
      ]
    },
    {
      "cell_type": "code",
      "source": [
        "t = ['Medu', 'Fedu', 'reason', 'guardian', 'studytime', 'freetime', 'health']\n",
        "for variable in t:\n",
        "  value = {val: i + 1 for i, val in enumerate(df[variable].value_counts().index)}\n",
        "  df[variable + '_ordinal'] = df[variable].map(value)\n",
        "print(df.head())\n"
      ],
      "metadata": {
        "colab": {
          "base_uri": "https://localhost:8080/"
        },
        "id": "OaoQuEhANMoU",
        "outputId": "d4fa5891-9c9a-4e81-c670-4ff60ce87840"
      },
      "execution_count": 10,
      "outputs": [
        {
          "output_type": "stream",
          "name": "stdout",
          "text": [
            "  school sex  age address famsize Pstatus                           Medu  \\\n",
            "0     GP   F   18       U     GT3       A               higher education   \n",
            "1     GP   F   17       U     GT3       T  primary education (4th grade)   \n",
            "2     GP   F   15       U     LE3       T  primary education (4th grade)   \n",
            "3     GP   F   15       U     GT3       T               higher education   \n",
            "4     GP   F   16       U     GT3       T            secondary education   \n",
            "\n",
            "                            Fedu     Mjob      Fjob  ... nursery_binary  \\\n",
            "0               higher education  at_home   teacher  ...              1   \n",
            "1  primary education (4th grade)  at_home     other  ...              0   \n",
            "2  primary education (4th grade)  at_home     other  ...              1   \n",
            "3               5th to 9th grade   health  services  ...              1   \n",
            "4            secondary education    other     other  ...              1   \n",
            "\n",
            "  internet_binary romantic_binary Medu_ordinal  Fedu_ordinal reason_ordinal  \\\n",
            "0               0               0            1             3              1   \n",
            "1               1               0            4             4              1   \n",
            "2               1               0            4             4              4   \n",
            "3               1               1            1             1              2   \n",
            "4               0               0            3             2              2   \n",
            "\n",
            "  guardian_ordinal studytime_ordinal freetime_ordinal health_ordinal  \n",
            "0                1                 1                1              2  \n",
            "1                2                 1                1              2  \n",
            "2                1                 1                1              2  \n",
            "3                1                 3                3              1  \n",
            "4                2                 1                1              1  \n",
            "\n",
            "[5 rows x 49 columns]\n"
          ]
        }
      ]
    },
    {
      "cell_type": "code",
      "source": [
        "interval1 = [15, 17]\n",
        "interval2 = [17, 20]\n",
        "interval3 = [20, df['age'].max()]\n",
        "\n",
        "def map_to_interval(age):\n",
        "  if age in interval1:\n",
        "    return 'interval1'\n",
        "  elif age in interval2:\n",
        "    return 'interval2'\n",
        "  elif age in interval3:\n",
        "    return 'interval3'\n",
        "\n",
        "df['category_age'] = df['age'].apply(map_to_interval)\n",
        "print(df.head())"
      ],
      "metadata": {
        "colab": {
          "base_uri": "https://localhost:8080/"
        },
        "id": "VTKpB8w-PCez",
        "outputId": "d388cd1a-e204-484d-8511-42d8690680e7"
      },
      "execution_count": 11,
      "outputs": [
        {
          "output_type": "stream",
          "name": "stdout",
          "text": [
            "  school sex  age address famsize Pstatus                           Medu  \\\n",
            "0     GP   F   18       U     GT3       A               higher education   \n",
            "1     GP   F   17       U     GT3       T  primary education (4th grade)   \n",
            "2     GP   F   15       U     LE3       T  primary education (4th grade)   \n",
            "3     GP   F   15       U     GT3       T               higher education   \n",
            "4     GP   F   16       U     GT3       T            secondary education   \n",
            "\n",
            "                            Fedu     Mjob      Fjob  ... internet_binary  \\\n",
            "0               higher education  at_home   teacher  ...               0   \n",
            "1  primary education (4th grade)  at_home     other  ...               1   \n",
            "2  primary education (4th grade)  at_home     other  ...               1   \n",
            "3               5th to 9th grade   health  services  ...               1   \n",
            "4            secondary education    other     other  ...               0   \n",
            "\n",
            "  romantic_binary Medu_ordinal Fedu_ordinal  reason_ordinal guardian_ordinal  \\\n",
            "0               0            1            3               1                1   \n",
            "1               0            4            4               1                2   \n",
            "2               0            4            4               4                1   \n",
            "3               1            1            1               2                1   \n",
            "4               0            3            2               2                2   \n",
            "\n",
            "  studytime_ordinal freetime_ordinal health_ordinal category_age  \n",
            "0                 1                1              2         None  \n",
            "1                 1                1              2    interval1  \n",
            "2                 1                1              2    interval1  \n",
            "3                 3                3              1    interval1  \n",
            "4                 1                1              1         None  \n",
            "\n",
            "[5 rows x 50 columns]\n"
          ]
        }
      ]
    },
    {
      "cell_type": "code",
      "source": [
        "df['passed'] = df['G3'].apply(lambda x: 'yes' if x >= 8 else 'no')\n",
        "print(df.head())"
      ],
      "metadata": {
        "colab": {
          "base_uri": "https://localhost:8080/"
        },
        "id": "2LzXz7AvPosy",
        "outputId": "d3aef3a2-849f-4d15-f1de-98585c963ac5"
      },
      "execution_count": 12,
      "outputs": [
        {
          "output_type": "stream",
          "name": "stdout",
          "text": [
            "  school sex  age address famsize Pstatus                           Medu  \\\n",
            "0     GP   F   18       U     GT3       A               higher education   \n",
            "1     GP   F   17       U     GT3       T  primary education (4th grade)   \n",
            "2     GP   F   15       U     LE3       T  primary education (4th grade)   \n",
            "3     GP   F   15       U     GT3       T               higher education   \n",
            "4     GP   F   16       U     GT3       T            secondary education   \n",
            "\n",
            "                            Fedu     Mjob      Fjob  ... romantic_binary  \\\n",
            "0               higher education  at_home   teacher  ...               0   \n",
            "1  primary education (4th grade)  at_home     other  ...               0   \n",
            "2  primary education (4th grade)  at_home     other  ...               0   \n",
            "3               5th to 9th grade   health  services  ...               1   \n",
            "4            secondary education    other     other  ...               0   \n",
            "\n",
            "  Medu_ordinal Fedu_ordinal reason_ordinal  guardian_ordinal  \\\n",
            "0            1            3              1                 1   \n",
            "1            4            4              1                 2   \n",
            "2            4            4              4                 1   \n",
            "3            1            1              2                 1   \n",
            "4            3            2              2                 2   \n",
            "\n",
            "  studytime_ordinal freetime_ordinal health_ordinal category_age passed  \n",
            "0                 1                1              2         None     no  \n",
            "1                 1                1              2    interval1     no  \n",
            "2                 1                1              2    interval1    yes  \n",
            "3                 3                3              1    interval1    yes  \n",
            "4                 1                1              1         None    yes  \n",
            "\n",
            "[5 rows x 51 columns]\n"
          ]
        }
      ]
    },
    {
      "cell_type": "code",
      "source": [
        "cols = ['age', 'absences', 'G1', 'G2', 'G3']\n",
        "summary_stats = df[cols].describe()\n",
        "print(summary_stats)\n",
        "mean = df[cols].mean()\n",
        "median = df[cols].median()\n",
        "std = df[cols].std()\n",
        "max_val = df[cols].max()\n",
        "min_val = df[cols].min()\n",
        "\n",
        "\n",
        "\n"
      ],
      "metadata": {
        "colab": {
          "base_uri": "https://localhost:8080/"
        },
        "id": "QU5DIxFeQDlS",
        "outputId": "3f0cb3e2-ae68-41d8-af89-efcfb85beca0"
      },
      "execution_count": 13,
      "outputs": [
        {
          "output_type": "stream",
          "name": "stdout",
          "text": [
            "              age    absences          G1          G2          G3\n",
            "count  395.000000  395.000000  395.000000  395.000000  395.000000\n",
            "mean    16.696203    5.708861   10.908861   10.713924   10.415190\n",
            "std      1.276043    8.003096    3.319195    3.761505    4.581443\n",
            "min     15.000000    0.000000    3.000000    0.000000    0.000000\n",
            "25%     16.000000    0.000000    8.000000    9.000000    8.000000\n",
            "50%     17.000000    4.000000   11.000000   11.000000   11.000000\n",
            "75%     18.000000    8.000000   13.000000   13.000000   14.000000\n",
            "max     22.000000   75.000000   19.000000   19.000000   20.000000\n"
          ]
        }
      ]
    },
    {
      "cell_type": "code",
      "source": [
        "cols = ['age', 'absences', 'G3']\n",
        "\n",
        "fig, ax = plt.subplots(nrows=1, ncols=3, figsize=(12, 4))\n",
        "\n",
        "for i, col in enumerate(cols):\n",
        "  ax[i].hist(df[col])\n",
        "  ax[i].set_title(col)\n",
        "plt.show()\n",
        "fig, ax = plt.subplots(nrows=1, ncols=3, figsize=(12, 4))\n",
        "\n",
        "for i, col in enumerate(cols):\n",
        "  ax[i].boxplot(df[col])\n",
        "  ax[i].set_title(col)\n",
        "plt.show()\n",
        "\n",
        "\n",
        "\n"
      ],
      "metadata": {
        "colab": {
          "base_uri": "https://localhost:8080/",
          "height": 545
        },
        "id": "d_CtCue5Q8YQ",
        "outputId": "7e5baf05-9e06-47c6-c0f1-086a06735a97"
      },
      "execution_count": 14,
      "outputs": [
        {
          "output_type": "display_data",
          "data": {
            "text/plain": [
              "<Figure size 864x288 with 3 Axes>"
            ],
            "image/png": "[encoded data removed]"
          },
          "metadata": {
            "needs_background": "light"
          }
        },
        {
          "output_type": "display_data",
          "data": {
            "text/plain": [
              "<Figure size 864x288 with 3 Axes>"
            ],
            "image/png": "[encoded data removed]"
          },
          "metadata": {
            "needs_background": "light"
          }
        }
      ]
    },
    {
      "cell_type": "code",
      "source": [
        "df['passed'] = df['G3'].apply(lambda x: 1 if x >= 8 else 0)\n",
        "\n",
        "passed_by_school = df.groupby('school')['passed'].sum()\n",
        "\n",
        "school_labels = passed_by_school.index\n",
        "\n",
        "bar_heights = passed_by_school.values\n",
        "\n",
        "plt.figure(figsize=(8, 4))\n",
        "\n",
        "plt.bar(school_labels, bar_heights)\n",
        "\n",
        "plt.title('Number of Students Who Passed the Final Term by School')\n",
        "plt.xlabel('School')\n",
        "plt.ylabel('Number of Students')\n",
        "\n",
        "plt.show()"
      ],
      "metadata": {
        "colab": {
          "base_uri": "https://localhost:8080/",
          "height": 295
        },
        "id": "GGylK_jDRol8",
        "outputId": "277869d8-e8df-4422-dda0-fb611b8f4978"
      },
      "execution_count": 15,
      "outputs": [
        {
          "output_type": "display_data",
          "data": {
            "text/plain": [
              "<Figure size 576x288 with 1 Axes>"
            ],
            "image/png": "[encoded data removed]"
          },
          "metadata": {
            "needs_background": "light"
          }
        }
      ]
    },
    {
      "cell_type": "code",
      "source": [
        "avg_grade_by_school = df.groupby('school')['G3'].mean()\n",
        "\n",
        "school_labels = avg_grade_by_school.index\n",
        "\n",
        "pie_values = avg_grade_by_school.values\n",
        "\n",
        "plt.figure(figsize=(8, 4))\n",
        "\n",
        "plt.pie(pie_values, labels=school_labels, autopct='%1.1f%%')\n",
        "\n",
        "plt.title('Analysis of Students\\' Grades by School')\n",
        "\n",
        "plt.show()"
      ],
      "metadata": {
        "colab": {
          "base_uri": "https://localhost:8080/",
          "height": 264
        },
        "id": "KK-m9RboSWbf",
        "outputId": "3e790fd3-d516-4275-8f43-9851450858d4"
      },
      "execution_count": 16,
      "outputs": [
        {
          "output_type": "display_data",
          "data": {
            "text/plain": [
              "<Figure size 576x288 with 1 Axes>"
            ],
            "image/png": "[encoded data removed]"
          },
          "metadata": {}
        }
      ]
    },
    {
      "cell_type": "code",
      "source": [
        "avg_grade_by_occupation = df.groupby('Fjob')['G3'].mean()\n",
        "\n",
        "occupation_labels = avg_grade_by_occupation.index\n",
        "\n",
        "bar_heights = avg_grade_by_occupation.values\n",
        "\n",
        "plt.figure(figsize=(8, 4))\n",
        "\n",
        "plt.bar(occupation_labels, bar_heights)\n",
        "\n",
        "plt.title('Relation of Father\\'s Occupation with Student Grade')\n",
        "plt.xlabel('Father\\'s Occupation')\n",
        "plt.ylabel('Average Grade')\n",
        "\n",
        "plt.show()"
      ],
      "metadata": {
        "colab": {
          "base_uri": "https://localhost:8080/",
          "height": 296
        },
        "id": "gS3PNCK0UA7P",
        "outputId": "1cc72d6b-56d4-4f67-edb6-0e8daf7856e5"
      },
      "execution_count": 17,
      "outputs": [
        {
          "output_type": "display_data",
          "data": {
            "text/plain": [
              "<Figure size 576x288 with 1 Axes>"
            ],
            "image/png": "[encoded data removed]"
          },
          "metadata": {
            "needs_background": "light"
          }
        }
      ]
    }
  ]
}